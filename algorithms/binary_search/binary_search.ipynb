{
 "cells": [
  {
   "cell_type": "markdown",
   "metadata": {},
   "source": [
    "## Binary Search\n",
    "The binary search is an algorithm that is used to search a sorted array. Please refer to the course on [Khan Academy](https://www.khanacademy.org/computing/computer-science/algorithms/binary-search/a/binary-search) for a detailed explanation on the algorithm.\n",
    "\n",
    "### Pseudo code -\n",
    "The algorithm will use two vairables - min and max\n",
    "1. Let min = 0 and max = n-1 (Where n is the number of items in the array)\n",
    "2. If max < min, then stop: target is not present in array. Return -1.\n",
    "3. Compute guess as the average of max and min, rounded down (so that this is an integer). (guess is the index position of the item being searched)\n",
    "4. If array[guess] equals target, then stop. You found it! Return guess.\n",
    "5. If the guess was too low, that is array[guess] < target, then set min = guess+1\n",
    "6. If the guess was too high, set max = guess - 1\n",
    "7. Go back to step 2."
   ]
  },
  {
   "cell_type": "markdown",
   "metadata": {},
   "source": [
    "### Problem statement\n",
    "Write a function called binary_search, which will take an array of integers with prime values as input one and a target as second input, return the index\\position of the target, if the target is not in the list then return -1."
   ]
  },
  {
   "cell_type": "code",
   "execution_count": 17,
   "metadata": {},
   "outputs": [],
   "source": [
    "\n",
    "primes = [2, 3, 5, 7, 11, 13, 17, 19, 23, 29, 31, 37, 41, 43, 47, 53, 59, 61, 71, 73, 79, 83, 89, 97]\n",
    "\n",
    "def binary_search(array, target_value):\n",
    "    min = 0\n",
    "    max = len(array)-1\n",
    "    \n",
    "    found = False\n",
    "    \n",
    "    \n",
    "    while not found:\n",
    "        if max < min:\n",
    "            return -1\n",
    "        pos = int((min+max)/2)\n",
    "        \n",
    "        if(array[pos] == target_value):\n",
    "            return pos\n",
    "        \n",
    "        if(array[pos] < target_value):\n",
    "            min = pos+1\n",
    "        elif(array[pos] > target_value):\n",
    "            max = pos-1"
   ]
  },
  {
   "cell_type": "code",
   "execution_count": 21,
   "metadata": {},
   "outputs": [
    {
     "name": "stdout",
     "output_type": "stream",
     "text": [
      "Prime number 7 is in position = 3\n"
     ]
    }
   ],
   "source": [
    "prime_number = 7\n",
    "index = binary_search(primes, prime_number)\n",
    "print(\"Prime number {0} is in position = {1}\".format(prime_number, index))\n",
    "assert (index == 3)"
   ]
  },
  {
   "cell_type": "code",
   "execution_count": 22,
   "metadata": {},
   "outputs": [
    {
     "name": "stdout",
     "output_type": "stream",
     "text": [
      "Prime number 101 is in position = -1\n"
     ]
    }
   ],
   "source": [
    "prime_number = 101\n",
    "index = binary_search(primes, prime_number)\n",
    "print(\"Prime number {0} is in position = {1}\".format(prime_number, index))\n",
    "assert(index==-1)"
   ]
  },
  {
   "cell_type": "markdown",
   "metadata": {},
   "source": [
    "### Running time \n",
    "Running time of binary search is base - 2 logartithm of n, also written as log2n."
   ]
  },
  {
   "cell_type": "code",
   "execution_count": null,
   "metadata": {
    "collapsed": true
   },
   "outputs": [],
   "source": []
  }
 ],
 "metadata": {
  "kernelspec": {
   "display_name": "Python 3",
   "language": "python",
   "name": "python3"
  },
  "language_info": {
   "codemirror_mode": {
    "name": "ipython",
    "version": 3
   },
   "file_extension": ".py",
   "mimetype": "text/x-python",
   "name": "python",
   "nbconvert_exporter": "python",
   "pygments_lexer": "ipython3",
   "version": "3.6.3"
  }
 },
 "nbformat": 4,
 "nbformat_minor": 2
}
